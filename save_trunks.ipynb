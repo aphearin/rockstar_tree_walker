{
 "metadata": {
  "name": "",
  "signature": "sha256:c7d1ebd27a6eab22bf226710ad6dc1ba21350a42b73226ed3ee643d167b7511d"
 },
 "nbformat": 3,
 "nbformat_minor": 0,
 "worksheets": [
  {
   "cells": [
    {
     "cell_type": "code",
     "collapsed": false,
     "input": [
      "tree_fname = \"/Users/aphearin/work/SIMS/bolplanck/trees/small_tree_0_2_2.dat\""
     ],
     "language": "python",
     "metadata": {},
     "outputs": [],
     "prompt_number": 1
    },
    {
     "cell_type": "code",
     "collapsed": false,
     "input": [
      "from simulation_column_dtype import simulation_column_dtype\n",
      "dt = simulation_column_dtype()\n",
      "\n",
      "mmp_col_index = dt.names.index('mmp')\n",
      "desc_id_col_index = dt.names.index('desc_id')\n",
      "halo_id_col_index = dt.names.index('halo_id')"
     ],
     "language": "python",
     "metadata": {},
     "outputs": [],
     "prompt_number": 2
    },
    {
     "cell_type": "code",
     "collapsed": false,
     "input": [
      "from ascii_subvolume_walker import mmp_row_generator\n",
      "gen = mmp_row_generator(tree_fname, mmp_col_index, desc_id_col_index, halo_id_col_index, *np.arange(len(dt)))"
     ],
     "language": "python",
     "metadata": {},
     "outputs": [],
     "prompt_number": 3
    },
    {
     "cell_type": "code",
     "collapsed": false,
     "input": [
      "arr = np.array(list(gen), dtype = dt)"
     ],
     "language": "python",
     "metadata": {},
     "outputs": [
      {
       "output_type": "stream",
       "stream": "stdout",
       "text": [
        "Total runtime = 2.02 seconds\n"
       ]
      }
     ],
     "prompt_number": 4
    },
    {
     "cell_type": "code",
     "collapsed": false,
     "input": [
      "mask = arr['scale_factor'] == np.max(arr['scale_factor'])\n",
      "len(arr[mask])"
     ],
     "language": "python",
     "metadata": {},
     "outputs": [
      {
       "metadata": {},
       "output_type": "pyout",
       "prompt_number": 5,
       "text": [
        "4"
       ]
      }
     ],
     "prompt_number": 5
    },
    {
     "cell_type": "code",
     "collapsed": false,
     "input": [
      "idx_new_trees = np.where(arr['scale_factor'] == np.max(arr['scale_factor']))[0]"
     ],
     "language": "python",
     "metadata": {},
     "outputs": [],
     "prompt_number": 6
    },
    {
     "cell_type": "code",
     "collapsed": false,
     "input": [
      "idx_new_trees"
     ],
     "language": "python",
     "metadata": {},
     "outputs": [
      {
       "metadata": {},
       "output_type": "pyout",
       "prompt_number": 8,
       "text": [
        "array([  0, 169, 336, 506])"
       ]
      }
     ],
     "prompt_number": 8
    },
    {
     "cell_type": "code",
     "collapsed": false,
     "input": [],
     "language": "python",
     "metadata": {},
     "outputs": []
    }
   ],
   "metadata": {}
  }
 ]
}