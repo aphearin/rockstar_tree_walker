{
 "metadata": {
  "name": "",
  "signature": "sha256:7259b5008c6113143c73d244001a7bebb00bfb3b2e201d91e4079bc206ed8158"
 },
 "nbformat": 3,
 "nbformat_minor": 0,
 "worksheets": [
  {
   "cells": [
    {
     "cell_type": "code",
     "collapsed": false,
     "input": [
      "def time_load():\n",
      "    halo_id_array = np.load(\"halo_id_array.npy\")\n",
      "    mvir_array = np.load(\"mvir_array.npy\")\n",
      "    scale_factor_array = np.load(\"scale_factor_array.npy\")\n",
      "    idx_new_trunk = np.where(scale_factor_array == scale_factor_array.max())[0]\n",
      "    return halo_id_array, mvir_array, scale_factor_array, idx_new_trunk"
     ],
     "language": "python",
     "metadata": {},
     "outputs": [],
     "prompt_number": 9
    },
    {
     "cell_type": "code",
     "collapsed": false,
     "input": [
      "%timeit time_load()"
     ],
     "language": "python",
     "metadata": {},
     "outputs": [
      {
       "output_type": "stream",
       "stream": "stdout",
       "text": [
        "10 loops, best of 3: 48.7 ms per loop\n"
       ]
      }
     ],
     "prompt_number": 11
    },
    {
     "cell_type": "code",
     "collapsed": false,
     "input": [
      "halo_id_array = np.load(\"halo_id_array.npy\")\n",
      "mvir_array = np.load(\"mvir_array.npy\")\n",
      "scale_factor_array = np.load(\"scale_factor_array.npy\")\n",
      "idx_new_trunk = np.where(scale_factor_array == scale_factor_array.max())[0]"
     ],
     "language": "python",
     "metadata": {},
     "outputs": [],
     "prompt_number": 10
    },
    {
     "cell_type": "code",
     "collapsed": false,
     "input": [
      "def pure_python_mpeak(mvir_array, idx_new_trunk):\n",
      "    result = np.zeros(len(idx_new_trunk))\n",
      "    idx_new_trunk = np.append(idx_new_trunk, None)\n",
      "    \n",
      "    for i, ifirst, ilast in zip(range(len(result)), idx_new_trunk[:-1], idx_new_trunk[1:]):\n",
      "        result[i] = np.max(mvir_array[ifirst:ilast])\n",
      "    \n",
      "    return result"
     ],
     "language": "python",
     "metadata": {},
     "outputs": [],
     "prompt_number": 2
    },
    {
     "cell_type": "code",
     "collapsed": false,
     "input": [
      "%timeit python_result = pure_python_mpeak(mvir_array, idx_new_trunk)"
     ],
     "language": "python",
     "metadata": {},
     "outputs": [
      {
       "output_type": "stream",
       "stream": "stdout",
       "text": [
        "1 loops, best of 3: 208 ms per loop\n"
       ]
      }
     ],
     "prompt_number": 3
    },
    {
     "cell_type": "code",
     "collapsed": false,
     "input": [
      "%load_ext Cython"
     ],
     "language": "python",
     "metadata": {},
     "outputs": [],
     "prompt_number": 4
    },
    {
     "cell_type": "code",
     "collapsed": false,
     "input": [
      "%%cython \n",
      "\n",
      "import numpy as np \n",
      "cimport numpy as cnp\n",
      "\n",
      "def cython_mpeak(cnp.float32_t[:] mvir, cnp.int64_t[:] idx):\n",
      "    \n",
      "    cdef cnp.float32_t[:] result = np.zeros(len(idx), dtype=np.float32) - 1\n",
      "    \n",
      "    cdef int i, j, ifirst, ilast\n",
      "    cdef int n = len(idx)\n",
      "    cdef float tmp_max = 0.\n",
      "    \n",
      "    for i in range(n-1):\n",
      "        tmp_max = 0.\n",
      "        ifirst = idx[i]\n",
      "        ilast = idx[i+1]\n",
      "        for j in range(ifirst, ilast):\n",
      "            if mvir[j] > tmp_max:\n",
      "                tmp_max = mvir[j]\n",
      "        result[i] = tmp_max\n",
      "    \n",
      "    # Now for the final element\n",
      "    ifirst = idx[n-1]\n",
      "    ilast = len(mvir)\n",
      "    tmp_max = 0.\n",
      "    for j in range(ifirst, ilast):\n",
      "        if mvir[j] > tmp_max:\n",
      "            tmp_max = mvir[j]\n",
      "    result[n-1] = tmp_max\n",
      "    \n",
      "    return np.array(result)"
     ],
     "language": "python",
     "metadata": {},
     "outputs": [],
     "prompt_number": 5
    },
    {
     "cell_type": "code",
     "collapsed": false,
     "input": [
      "%timeit cython_result = cython_mpeak(mvir_array, idx_new_trunk)"
     ],
     "language": "python",
     "metadata": {},
     "outputs": [
      {
       "output_type": "stream",
       "stream": "stdout",
       "text": [
        "100 loops, best of 3: 11.3 ms per loop\n"
       ]
      }
     ],
     "prompt_number": 6
    },
    {
     "cell_type": "code",
     "collapsed": false,
     "input": [
      "python_result = pure_python_mpeak(mvir_array, idx_new_trunk)\n",
      "cython_result = cython_mpeak(mvir_array, idx_new_trunk)\n",
      "np.all(python_result == cython_result)"
     ],
     "language": "python",
     "metadata": {},
     "outputs": [
      {
       "metadata": {},
       "output_type": "pyout",
       "prompt_number": 7,
       "text": [
        "True"
       ]
      }
     ],
     "prompt_number": 7
    },
    {
     "cell_type": "code",
     "collapsed": false,
     "input": [],
     "language": "python",
     "metadata": {},
     "outputs": []
    }
   ],
   "metadata": {}
  }
 ]
}