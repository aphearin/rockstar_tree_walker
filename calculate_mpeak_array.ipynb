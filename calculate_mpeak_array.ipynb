{
 "cells": [
  {
   "cell_type": "code",
   "execution_count": 1,
   "metadata": {
    "collapsed": false
   },
   "outputs": [],
   "source": [
    "import os\n",
    "import fnmatch\n",
    "from filename_utils import (fname_generator, tree_subvol_substring_from_int, \n",
    "                            trunk_array_fname_generator, trunk_indices_fname_generator)\n",
    "from filename_utils import trunk_array_generator, trunk_indices_generator, trunk_generator\n",
    "trunks_dirname = \"reduced_trunks\""
   ]
  },
  {
   "cell_type": "code",
   "execution_count": 2,
   "metadata": {
    "collapsed": false
   },
   "outputs": [],
   "source": [
    "idx_trunks_gen = trunk_indices_generator(trunks_dirname, 3)\n",
    "halo_id_gen = trunk_array_generator(trunks_dirname, 3, 'halo_id')\n",
    "mvir_gen = trunk_array_generator(trunks_dirname, 3, 'mvir')\n",
    "\n",
    "for trunk_idx_data, halo_id_array, mvir_array in zip(idx_trunks_gen, halo_id_gen, mvir_gen):\n",
    "    subvol_substr = trunk_idx_data[0]\n",
    "    idx_new_trunks = np.append(trunk_idx_data[1], len(mvir_array))\n",
    "    for ifirst, ilast in zip(idx_new_trunks[:-1], idx_new_trunks[1:]):\n",
    "        mpeak = np.max(mvir_array[ifirst:ilast])"
   ]
  },
  {
   "cell_type": "code",
   "execution_count": 3,
   "metadata": {
    "collapsed": false
   },
   "outputs": [],
   "source": [
    "def trunk_data_generator(idx_iterable, *haloprop_iterables):\n",
    "    for subvol_data in zip(idx_iterable, *haloprop_iterables):\n",
    "        idx_data = subvol_data[0]\n",
    "        haloprop_arrays = subvol_data[1:]\n",
    "        subvol_substr = idx_data[0]\n",
    "        idx_new_trunks = np.append(idx_data[1], len(haloprop_arrays[0]))\n",
    "        for ifirst, ilast in zip(idx_new_trunks[:-1], idx_new_trunks[1:]):\n",
    "            yield subvol_substr, tuple(haloprop_array[ifirst:ilast] for haloprop_array in haloprop_arrays)"
   ]
  },
  {
   "cell_type": "code",
   "execution_count": 4,
   "metadata": {
    "collapsed": false
   },
   "outputs": [],
   "source": [
    "idx_trunks_gen = trunk_indices_generator(trunks_dirname, 3)\n",
    "halo_id_gen = trunk_array_generator(trunks_dirname, 3, 'halo_id')\n",
    "mvir_gen = trunk_array_generator(trunks_dirname, 3, 'mvir')\n",
    "\n",
    "for subvol_substr, trunks in trunk_data_generator(idx_trunks_gen, halo_id_gen, mvir_gen):\n",
    "    halo_id_array, mvir_array = trunks\n"
   ]
  },
  {
   "cell_type": "code",
   "execution_count": 2,
   "metadata": {
    "collapsed": false
   },
   "outputs": [],
   "source": [
    "ndivs = 3\n",
    "for subvol_substr, trunks in trunk_generator(trunks_dirname, ndivs, 'halo_id', 'mvir', 'scale_factor'):\n",
    "    halo_id_array, mvir_array, scale_factor_array = trunks\n",
    "    halo_id = halo_id_array[0]\n",
    "    mpeak = np.max(mvir_array)"
   ]
  },
  {
   "cell_type": "code",
   "execution_count": 3,
   "metadata": {
    "collapsed": false
   },
   "outputs": [
    {
     "name": "stdout",
     "output_type": "stream",
     "text": [
      "('2_2_2', 3.3119999e+12)\n"
     ]
    }
   ],
   "source": [
    "print(subvol_substr, mpeak)"
   ]
  },
  {
   "cell_type": "code",
   "execution_count": null,
   "metadata": {
    "collapsed": true
   },
   "outputs": [],
   "source": []
  }
 ],
 "metadata": {
  "anaconda-cloud": {},
  "kernelspec": {
   "display_name": "Python [conda root]",
   "language": "python",
   "name": "conda-root-py"
  },
  "language_info": {
   "codemirror_mode": {
    "name": "ipython",
    "version": 2
   },
   "file_extension": ".py",
   "mimetype": "text/x-python",
   "name": "python",
   "nbconvert_exporter": "python",
   "pygments_lexer": "ipython2",
   "version": "2.7.12"
  }
 },
 "nbformat": 4,
 "nbformat_minor": 1
}
